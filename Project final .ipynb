{
 "cells": [
  {
   "cell_type": "markdown",
   "id": "df4b17a3-6150-4659-a663-d75c88f6467b",
   "metadata": {},
   "source": [
    "Intro"
   ]
  },
  {
   "cell_type": "markdown",
   "id": "668cc3e5-dd99-43e8-a756-d8ccb62845a0",
   "metadata": {},
   "source": [
    "Python, R, SQL"
   ]
  },
  {
   "cell_type": "markdown",
   "id": "56b010a9-923c-4b38-a8a9-a01b786bbd5b",
   "metadata": {},
   "source": [
    "Panda, NumPy,TensorFlow, Keras ,Matplotlib,Seaborn"
   ]
  },
  {
   "cell_type": "code",
   "execution_count": null,
   "id": "d0f3b081-d0eb-4cd1-9c31-277010a91ad6",
   "metadata": {},
   "outputs": [],
   "source": []
  },
  {
   "cell_type": "markdown",
   "id": "f07290e1-15b9-4ae1-bfe2-8178ae2eb3cf",
   "metadata": {},
   "source": [
    "# Data Science Final Project\n",
    "\n",
    "## Introduction\n",
    "This notebook presents various exercises covering data science tools, languages, and arithmetic operations.\n",
    "\n",
    "## Data Science Languages\n",
    "- Python\n",
    "- R\n",
    "- SQL\n",
    "- Julia\n",
    "\n",
    "## Data Science Libraries\n",
    "- NumPy\n",
    "- Pandas\n",
    "- Matplotlib\n",
    "- Scikit-learn\n",
    "- TensorFlow\n",
    "- PyTorch\n",
    "\n",
    "## Data Science Tools\n",
    "| Tool           | Description                            |\n",
    "|----------------|----------------------------------------|\n",
    "| Jupyter        | Interactive computing environment      |\n",
    "| RStudio        | IDE for R                              |\n",
    "| Apache Spark   | Big data processing framework          |\n",
    "| MATLAB         | Programming environment for numerical computing |\n",
    "\n",
    "## Arithmetic Expression Examples\n",
    "Below are some examples of arithmetic expressions in Python.\n"
   ]
  },
  {
   "cell_type": "code",
   "execution_count": 2,
   "id": "a4cbe138-902a-4fae-b830-b4aea2410380",
   "metadata": {},
   "outputs": [
    {
     "data": {
      "text/plain": [
       "22"
      ]
     },
     "execution_count": 2,
     "metadata": {},
     "output_type": "execute_result"
    }
   ],
   "source": [
    "# Multiply and add two numbers\n",
    "result = (5 * 4) + 2\n",
    "result\n"
   ]
  },
  {
   "cell_type": "code",
   "execution_count": 3,
   "id": "50c28416-2afd-4a6e-953d-7899f62c52ad",
   "metadata": {},
   "outputs": [
    {
     "data": {
      "text/plain": [
       "3.3333333333333335"
      ]
     },
     "execution_count": 3,
     "metadata": {},
     "output_type": "execute_result"
    }
   ],
   "source": [
    "# Convert minutes to hours\n",
    "minutes = 200\n",
    "hours = minutes / 60\n",
    "hours\n"
   ]
  },
  {
   "cell_type": "markdown",
   "id": "decafac6-1786-408e-8ede-f53d5b6c2b18",
   "metadata": {},
   "source": [
    "## Objectives\n",
    "- Understand different data science languages\n",
    "- Learn about data science libraries\n",
    "- Perform simple arithmetic operations\n",
    "\n",
    "## Author\n",
    "Clara Poumarede\n"
   ]
  },
  {
   "cell_type": "code",
   "execution_count": null,
   "id": "b86090cb-d278-46cc-9593-339c48c57509",
   "metadata": {},
   "outputs": [],
   "source": []
  },
  {
   "cell_type": "code",
   "execution_count": null,
   "id": "92b30ac0-0c15-4458-b4ae-15f0aeece967",
   "metadata": {},
   "outputs": [],
   "source": []
  }
 ],
 "metadata": {
  "kernelspec": {
   "display_name": "Python 3 (ipykernel)",
   "language": "python",
   "name": "python3"
  },
  "language_info": {
   "codemirror_mode": {
    "name": "ipython",
    "version": 3
   },
   "file_extension": ".py",
   "mimetype": "text/x-python",
   "name": "python",
   "nbconvert_exporter": "python",
   "pygments_lexer": "ipython3",
   "version": "3.10.13"
  }
 },
 "nbformat": 4,
 "nbformat_minor": 5
}
